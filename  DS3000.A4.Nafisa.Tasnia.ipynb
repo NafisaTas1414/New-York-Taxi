{
 "cells": [
  {
   "cell_type": "markdown",
   "metadata": {},
   "source": [
    "### DS 3000 - Assignment 4\n",
    "\n",
    "**Student Name**: [Nafisa Tasnia]\n",
    "\n",
    "**Date**: [2/6/2024]"
   ]
  },
  {
   "cell_type": "code",
   "execution_count": 78,
   "metadata": {},
   "outputs": [
    {
     "name": "stdout",
     "output_type": "stream",
     "text": [
      "Requirement already satisfied: fastparquet in /Users/nt/anaconda3/lib/python3.11/site-packages (2023.10.1)\n",
      "Requirement already satisfied: pandas>=1.5.0 in /Users/nt/anaconda3/lib/python3.11/site-packages (from fastparquet) (2.0.3)\n",
      "Requirement already satisfied: numpy>=1.20.3 in /Users/nt/anaconda3/lib/python3.11/site-packages (from fastparquet) (1.24.3)\n",
      "Requirement already satisfied: cramjam>=2.3 in /Users/nt/anaconda3/lib/python3.11/site-packages (from fastparquet) (2.8.1)\n",
      "Requirement already satisfied: fsspec in /Users/nt/anaconda3/lib/python3.11/site-packages (from fastparquet) (2023.4.0)\n",
      "Requirement already satisfied: packaging in /Users/nt/anaconda3/lib/python3.11/site-packages (from fastparquet) (23.1)\n",
      "Requirement already satisfied: python-dateutil>=2.8.2 in /Users/nt/anaconda3/lib/python3.11/site-packages (from pandas>=1.5.0->fastparquet) (2.8.2)\n",
      "Requirement already satisfied: pytz>=2020.1 in /Users/nt/anaconda3/lib/python3.11/site-packages (from pandas>=1.5.0->fastparquet) (2023.3.post1)\n",
      "Requirement already satisfied: tzdata>=2022.1 in /Users/nt/anaconda3/lib/python3.11/site-packages (from pandas>=1.5.0->fastparquet) (2023.3)\n",
      "Requirement already satisfied: six>=1.5 in /Users/nt/anaconda3/lib/python3.11/site-packages (from python-dateutil>=2.8.2->pandas>=1.5.0->fastparquet) (1.16.0)\n"
     ]
    }
   ],
   "source": [
    "import pandas as pd\n",
    "import matplotlib.pyplot as plt\n",
    "!pip install fastparquet"
   ]
  },
  {
   "cell_type": "markdown",
   "metadata": {},
   "source": [
    "## 1. Load the data\n",
    "Load the NYC Green Taxi Trip Records data directly from the URL into a data frame called tripdata_df. "
   ]
  },
  {
   "cell_type": "code",
   "execution_count": 79,
   "metadata": {},
   "outputs": [],
   "source": [
    "# Load the data into a dataframe\n",
    "\n",
    "tripdata_df = pd.read_parquet(path = 'https://d37ci6vzurychx.cloudfront.net/trip-data/green_tripdata_2023-02.parquet', #provide the URL to the data source\n",
    "                      engine = 'fastparquet')"
   ]
  },
  {
   "cell_type": "markdown",
   "metadata": {},
   "source": [
    "## 2. Inspect the Data (5 pts) \n",
    "Inspect the data and perform the following: \n",
    "1. display the dimensions, and indicate if the variables have suitable types.\n",
    "2. convert all variables to suitable types"
   ]
  },
  {
   "cell_type": "code",
   "execution_count": 80,
   "metadata": {
    "scrolled": false
   },
   "outputs": [
    {
     "data": {
      "text/plain": [
       "(64809, 20)"
      ]
     },
     "execution_count": 80,
     "metadata": {},
     "output_type": "execute_result"
    }
   ],
   "source": [
    "# Displays dimensions \n",
    "tripdata_df.shape"
   ]
  },
  {
   "cell_type": "code",
   "execution_count": 81,
   "metadata": {},
   "outputs": [
    {
     "name": "stdout",
     "output_type": "stream",
     "text": [
      "VendorID                        float64\n",
      "lpep_pickup_datetime     datetime64[us]\n",
      "lpep_dropoff_datetime    datetime64[us]\n",
      "store_and_fwd_flag               object\n",
      "RatecodeID                      float64\n",
      "PULocationID                    float64\n",
      "DOLocationID                    float64\n",
      "passenger_count                 float64\n",
      "trip_distance                   float64\n",
      "fare_amount                     float64\n",
      "extra                           float64\n",
      "mta_tax                         float64\n",
      "tip_amount                      float64\n",
      "tolls_amount                    float64\n",
      "ehail_fee                       float64\n",
      "improvement_surcharge           float64\n",
      "total_amount                    float64\n",
      "payment_type                    float64\n",
      "trip_type                       float64\n",
      "congestion_surcharge            float64\n",
      "dtype: object\n"
     ]
    }
   ],
   "source": [
    "# shows what the datatypes are set to currently. Will help us figure out which variables \n",
    "# need to be changed based on the data dictionary\n",
    "print(tripdata_df.dtypes)"
   ]
  },
  {
   "cell_type": "code",
   "execution_count": 82,
   "metadata": {},
   "outputs": [],
   "source": [
    "# The following variables did not have suitable types thus the next few lines converts all\n",
    "# those variables to be converted to suitable types using pd.to_numeric"
   ]
  },
  {
   "cell_type": "code",
   "execution_count": 83,
   "metadata": {},
   "outputs": [],
   "source": [
    "tripdata_df['VendorID'] = pd.to_numeric(tripdata_df['VendorID'], errors='coerce', downcast='integer')"
   ]
  },
  {
   "cell_type": "code",
   "execution_count": 84,
   "metadata": {},
   "outputs": [],
   "source": [
    "tripdata_df['passenger_count'] = pd.to_numeric(tripdata_df['passenger_count'], errors='coerce', downcast='integer')"
   ]
  },
  {
   "cell_type": "code",
   "execution_count": 85,
   "metadata": {},
   "outputs": [],
   "source": [
    "tripdata_df['RatecodeID'] = pd.to_numeric(tripdata_df['RatecodeID'], errors='coerce', downcast='integer')"
   ]
  },
  {
   "cell_type": "code",
   "execution_count": 86,
   "metadata": {},
   "outputs": [],
   "source": [
    "tripdata_df['PULocationID'] = pd.to_numeric(tripdata_df['PULocationID'], errors='coerce', downcast='integer')"
   ]
  },
  {
   "cell_type": "code",
   "execution_count": 87,
   "metadata": {},
   "outputs": [],
   "source": [
    "tripdata_df['DOLocationID'] = pd.to_numeric(tripdata_df['DOLocationID'], errors='coerce', downcast='integer')"
   ]
  },
  {
   "cell_type": "code",
   "execution_count": 88,
   "metadata": {},
   "outputs": [],
   "source": [
    "tripdata_df['payment_type'] = pd.to_numeric(tripdata_df['payment_type'], errors='coerce', downcast='integer')"
   ]
  },
  {
   "cell_type": "code",
   "execution_count": 89,
   "metadata": {},
   "outputs": [],
   "source": [
    "tripdata_df['trip_type'] = pd.to_numeric(tripdata_df['trip_type'], errors='coerce', downcast='integer')"
   ]
  },
  {
   "cell_type": "code",
   "execution_count": 90,
   "metadata": {},
   "outputs": [],
   "source": [
    "tripdata_df['store_and_fwd_flag'] = tripdata_df['store_and_fwd_flag'].map({'Y': True, 'N': False}).astype(bool)"
   ]
  },
  {
   "cell_type": "markdown",
   "metadata": {},
   "source": [
    "## 3. Types of Data (2 pts) \n",
    "Are there any categorical data in this dataset. If they exist, demonstrate at least two categorical variables and indicate if they are nominal or ordinal (hint: read the data dictionary above which describes all fields in the data)"
   ]
  },
  {
   "cell_type": "markdown",
   "metadata": {},
   "source": [
    "Nominal: store_and_fwd_flag because it doesn't have any order or ranking. The variable also has disctinct label of either Y or N.\n",
    "\n",
    "Ordinal: RatecodeID because there is order and the sequence has meaning. For example, standard rate might be considered base level while the other values might represent more meaningful service to taxi drivers, thus it can be ordered with intention. Overall they are ranked/ have meaning. "
   ]
  },
  {
   "cell_type": "markdown",
   "metadata": {},
   "source": [
    "## 4. Missing Values (10 pts) \n",
    "Evaluate the frequency of missing values in the dataset and perform the following:\n",
    "1. explain if missing values are an isolated case or a widespread issue? \n",
    "2. what method would you recommend to handle missing data?\n",
    "3. write the suitable code to handle the missing values."
   ]
  },
  {
   "cell_type": "markdown",
   "metadata": {},
   "source": [
    "1. Missing values is a widespread issue because you use the isnull function you \n",
    "can see that many of the variables have many missing values. Along with this ehail_fee is just all Nan. This means missing values is a widespread issue. I would personally drop ehail_fee coloumn as it's all Nan. Then I would use dropna function to drop Nan that are found in the rows."
   ]
  },
  {
   "cell_type": "code",
   "execution_count": 91,
   "metadata": {},
   "outputs": [],
   "source": [
    "# Drop the \"ehail_fee\" column from the DataFrame with drop function\n",
    "tripdata_df.drop(columns=[\"ehail_fee\"], axis=0, inplace=True)"
   ]
  },
  {
   "cell_type": "code",
   "execution_count": 92,
   "metadata": {},
   "outputs": [],
   "source": [
    "# Helps drop rows with missing values using dropna function\n",
    "tripdata_df.dropna(axis=0,inplace=True)"
   ]
  },
  {
   "cell_type": "markdown",
   "metadata": {},
   "source": [
    "## 5. Invalid Data (10 pts) \n",
    "Explore the data to determine if there are any invalid values and perform the following: \n",
    "1. demonstrate at least three issues that you found.\n",
    "2. write suitable code to handle the invalid data that you found."
   ]
  },
  {
   "cell_type": "code",
   "execution_count": 93,
   "metadata": {},
   "outputs": [],
   "source": [
    "# Many of the coloumns like fare amount and tip amount have negative values that need to be adressed\n",
    "# (These are two issues that fare amount and then tip amount have negative values"
   ]
  },
  {
   "cell_type": "code",
   "execution_count": 94,
   "metadata": {},
   "outputs": [],
   "source": [
    "negative_values = (tripdata_df[['fare_amount', 'tip_amount']] < 0).sum()"
   ]
  },
  {
   "cell_type": "code",
   "execution_count": 95,
   "metadata": {},
   "outputs": [
    {
     "name": "stdout",
     "output_type": "stream",
     "text": [
      "fare_amount    182\n",
      "tip_amount       5\n",
      "dtype: int64\n"
     ]
    }
   ],
   "source": [
    "# demonstrated here \n",
    "print(negative_values)"
   ]
  },
  {
   "cell_type": "code",
   "execution_count": 58,
   "metadata": {},
   "outputs": [],
   "source": [
    "# (3rd issue) Then there are 0 in trip distance yet fare_amount says that rows fare amount is $10 like row 5"
   ]
  },
  {
   "cell_type": "code",
   "execution_count": 59,
   "metadata": {},
   "outputs": [],
   "source": [
    "# counts the number of rows where trip_distance is 0\n",
    "unrealistic_trip_distance = (tripdata_df['trip_distance'] == 0).sum()\n",
    "# Count the number of rows where fare_amount is 0 or greater than 500\n",
    "unrealistic_fare_amount = ((tripdata_df['fare_amount'] == 0) | (tripdata_df['fare_amount'] > 500)).sum()"
   ]
  },
  {
   "cell_type": "code",
   "execution_count": 60,
   "metadata": {},
   "outputs": [
    {
     "name": "stdout",
     "output_type": "stream",
     "text": [
      "The total of rows where trip distance is 0: 2703\n",
      "The total of rows where fare amount is 0 or greater than 500: 93\n"
     ]
    }
   ],
   "source": [
    "# demonstrated here\n",
    "print(\"The total of rows where trip distance is 0:\", unrealistic_trip_distance)\n",
    "print(\"The total of rows where fare amount is 0 or greater than 500:\", unrealistic_fare_amount)"
   ]
  },
  {
   "cell_type": "code",
   "execution_count": 61,
   "metadata": {},
   "outputs": [],
   "source": [
    "# gets the median for these coloumns \n",
    "median_fare_amount = tripdata_df['fare_amount'].median()\n",
    "median_tip_amount = tripdata_df['tip_amount'].median()\n",
    "median_trip_distance = tripdata_df['trip_distance'].median()\n",
    "\n",
    "# Imputating for negative fare amount and trip amount\n",
    "tripdata_df.loc[tripdata_df['fare_amount'] < 0, 'fare_amount'] = median_fare_amount\n",
    "tripdata_df.loc[tripdata_df['tip_amount'] < 0, 'tip_amount'] = median_tip_amount\n",
    "\n",
    "# Imputating for 0 miles\n",
    "tripdata_df.loc[tripdata_df['trip_distance'] <= 0, 'trip_distance'] = median_trip_distance\n",
    "\n",
    "# replacing less than or equal to 0 with the median fare amount\n",
    "tripdata_df.loc[tripdata_df['fare_amount'] <= 0, 'fare_amount'] = median_fare_amount"
   ]
  },
  {
   "cell_type": "code",
   "execution_count": 74,
   "metadata": {},
   "outputs": [
    {
     "name": "stdout",
     "output_type": "stream",
     "text": [
      "0\n",
      "0\n"
     ]
    }
   ],
   "source": [
    "# this shows how all the issues are resolved as trip distance and fare amount now doesn't have any of the 0's\n",
    "print(unrealistic_trip_distance)\n",
    "print(unrealistic_fare_amount)"
   ]
  },
  {
   "cell_type": "markdown",
   "metadata": {},
   "source": [
    "<span style='color:red'>**Answer the following questions using the prepared data.**</span>"
   ]
  },
  {
   "cell_type": "markdown",
   "metadata": {},
   "source": [
    "## 6. Data Visualization (10 pts) \n",
    "Create bar charts that show: \n",
    "1. the most common way that New Yorkers request/hail a cab. \n",
    "2. the most common pick-up locations (display the top 5 locations). \n",
    "3. the most common drop-off locations (display the top 5 locations). \n",
    "\n",
    "Explain each chart."
   ]
  },
  {
   "cell_type": "code",
   "execution_count": 63,
   "metadata": {},
   "outputs": [
    {
     "data": {
      "image/png": "[encoded data removed]",
      "text/plain": [
       "<Figure size 640x480 with 1 Axes>"
      ]
     },
     "metadata": {},
     "output_type": "display_data"
    }
   ],
   "source": [
    "# Creates bar chart of the most common way that New Yorkers request/hail a cab\n",
    "trip_type = tripdata_df['trip_type'].value_counts()\n",
    "trip_type.plot(kind='bar', color='skyblue')\n",
    "plt.title('Most Common Way to Request/Hail a Cab')\n",
    "plt.xlabel('Trip Type')\n",
    "plt.ylabel('Frequency')\n",
    "plt.xticks(rotation=0)\n",
    "plt.show()"
   ]
  },
  {
   "cell_type": "markdown",
   "metadata": {},
   "source": [
    "The chart reveals that trip type 1, also known as street hail, is the predominant method for requesting or hailing a cab, while trip type 2, Dispatch, is the least common. The disparity between the two trip types is substantial, with street hail being approximately 50,000 times more frequent than dispatch."
   ]
  },
  {
   "cell_type": "code",
   "execution_count": 64,
   "metadata": {},
   "outputs": [
    {
     "data": {
      "image/png": "[encoded data removed]",
      "text/plain": [
       "<Figure size 640x480 with 1 Axes>"
      ]
     },
     "metadata": {},
     "output_type": "display_data"
    }
   ],
   "source": [
    "# Creates bar chart for the most common 5 pick-up locations\n",
    "pickup = tripdata_df['PULocationID'].value_counts().head(5)\n",
    "pickup.plot(kind='bar', color='pink')\n",
    "plt.title('Top 5 Common Pick-Up Locations')\n",
    "plt.xlabel('TLC Taxi Zones')\n",
    "plt.ylabel('Frequency')\n",
    "plt.xticks(rotation=45)\n",
    "plt.show()"
   ]
  },
  {
   "cell_type": "markdown",
   "metadata": {},
   "source": [
    "The bar chart of the top 5 common pick-up locations shows the frequency of taxi pickups across various zones. Zone 74 emerges as the most common pick-up location, with a frequency approaching 11,000. Then Zone 75, the second most frequented area for pick-ups, records a lower frequency of around 8,000 trips."
   ]
  },
  {
   "cell_type": "code",
   "execution_count": 65,
   "metadata": {},
   "outputs": [
    {
     "data": {
      "image/png": "[encoded data removed]",
      "text/plain": [
       "<Figure size 640x480 with 1 Axes>"
      ]
     },
     "metadata": {},
     "output_type": "display_data"
    }
   ],
   "source": [
    "# Creates bar chart for the most common areas to drop off \n",
    "dropoff = tripdata_df['DOLocationID'].value_counts().head(5)\n",
    "dropoff.plot(kind='bar', color='salmon')\n",
    "plt.title('The Top 5 Common Drop-Off Locations')\n",
    "plt.xlabel('TLC Taxi Zones')\n",
    "plt.ylabel('Frequency')\n",
    "plt.xticks(rotation=45)\n",
    "plt.show()"
   ]
  },
  {
   "cell_type": "markdown",
   "metadata": {},
   "source": [
    "The chart shows the top 5 areas where passengers are dropped off after their taxi trips. Interestingly, Zone 74 and Zone 75 emerge as the most common drop-off locations. What's noteworthy is the reversal in the trend compared to pick-up locations: while Zone 75 is more common for pick-ups, Zone 74 takes the lead for drop-offs."
   ]
  },
  {
   "cell_type": "markdown",
   "metadata": {},
   "source": [
    "## 7. Data Analysis (10 pts)\n",
    "Write suitable code to answer the following:\n",
    "1. On average, how far do New Yorkers usually travel using these taxis?\n",
    "2. What is the most expensive and least expensive trip? \n",
    "3. What is the minimum, average and maximum **tip amount** for all trips that are 1) under 2 miles and 2) over 2 miles (i.e. >= 2)? \n",
    "\n",
    "Explain the results."
   ]
  },
  {
   "cell_type": "code",
   "execution_count": 66,
   "metadata": {},
   "outputs": [
    {
     "name": "stdout",
     "output_type": "stream",
     "text": [
      "On average New Yorkers travel 2.78 miles\n"
     ]
    }
   ],
   "source": [
    "# finds how far average  New Yorkers usually travel;\n",
    "averaging = tripdata_df[\"trip_distance\"].mean()\n",
    "print(\"On average New Yorkers travel\", (round(averaging, 2)), \"miles\")"
   ]
  },
  {
   "cell_type": "markdown",
   "metadata": {},
   "source": [
    "This suggests that, on average, most passengers will require a taxi ride covering a distance of 2.78 miles. This distance appears to be the most common among people who call or hail taxis in New York City."
   ]
  },
  {
   "cell_type": "code",
   "execution_count": 67,
   "metadata": {},
   "outputs": [
    {
     "name": "stdout",
     "output_type": "stream",
     "text": [
      "The most expensive trip is $ 440.0\n",
      "The least expensive trip is $ 0.01\n"
     ]
    }
   ],
   "source": [
    "# finds the most expensive and least expensive trip\n",
    "maxing = tripdata_df[\"fare_amount\"].max()\n",
    "mining = tripdata_df[\"fare_amount\"].min()\n",
    "print(\"The most expensive trip is $\", maxing)\n",
    "print(\"The least expensive trip is $\", mining)"
   ]
  },
  {
   "cell_type": "markdown",
   "metadata": {},
   "source": [
    "This indicates that taxi trips in New york can vary signfiganctly in cost, ranging from 440 dollar to low as $0.01. The least expensive trip seems innaccurate because it's highly unlikely for a taxi trip to only cost a penny. The wide range of fares highlights the diversity in pricing for taxi rides."
   ]
  },
  {
   "cell_type": "code",
   "execution_count": 68,
   "metadata": {},
   "outputs": [
    {
     "name": "stdout",
     "output_type": "stream",
     "text": [
      "For trips under 2 miles:\n",
      "Minimum tip amount: 0.0\n",
      "Average tip amount: 1.32\n",
      "Maximum tip amount: 80.0\n"
     ]
    }
   ],
   "source": [
    "# Filter trips where trip distance is less than 2 miles\n",
    "short_trips = tripdata_df[tripdata_df['trip_distance'] < 2]\n",
    "\n",
    "# Calculate statistics for tip amounts for trips under 2 miles\n",
    "min_tip = short_trips['tip_amount'].min()\n",
    "avg_tip = short_trips['tip_amount'].mean()\n",
    "max_tip = short_trips['tip_amount'].max()\n",
    "\n",
    "\n",
    "# Print the results\n",
    "print(\"For trips under 2 miles:\")\n",
    "print(\"Minimum tip amount:\", min_tip)\n",
    "print(\"Average tip amount:\", (round(avg_tip,2)))\n",
    "print(\"Maximum tip amount:\", (round(max_tip,2)))"
   ]
  },
  {
   "cell_type": "markdown",
   "metadata": {},
   "source": [
    "The maximum tip amount a taxi driver in New York can receive while driving their passenger under 2 miles is 80 dollars, while the average tip amount is 1 dollar and 32 cents. It seems reasonable to assume that the average tip is about a dollar. On the lower end, some trips may not yield any tip, as indicated by a minimum tip amount of $0."
   ]
  },
  {
   "cell_type": "code",
   "execution_count": 69,
   "metadata": {},
   "outputs": [
    {
     "name": "stdout",
     "output_type": "stream",
     "text": [
      "For trips over 2 miles:\n",
      "Minimum tip amount: 0.0\n",
      "Average tip amount: 2.99\n",
      "Maximum tip amount: 75.82\n"
     ]
    }
   ],
   "source": [
    "# Filter trips where trip distance is greater than or equal to 2 miles\n",
    "long_trips = tripdata_df[tripdata_df['trip_distance'] >= 2]\n",
    "\n",
    "# Calculate statistics for tip amounts for trips over 2 miles\n",
    "min_tips = long_trips['tip_amount'].min()\n",
    "mean_tips = long_trips['tip_amount'].mean()\n",
    "max_tips = long_trips['tip_amount'].max()\n",
    "\n",
    "print(\"For trips over 2 miles:\")\n",
    "print(\"Minimum tip amount:\", min_tips)\n",
    "print(\"Average tip amount:\", (round(mean_tips,2)))\n",
    "print(\"Maximum tip amount:\", (round(max_tips,2)))\n",
    "\n"
   ]
  },
  {
   "cell_type": "markdown",
   "metadata": {},
   "source": [
    "When taxi drivers transport passengers over distances exceeding two miles, they can anticipate receiving a maximum tip of 75 dollars and 82 cents, with the average tip being $2.99. Despite trips exceeding two miles, some drivers may not receive any tips at all."
   ]
  },
  {
   "cell_type": "markdown",
   "metadata": {},
   "source": [
    "## 8. Findings (3 pts)\n",
    "Based on the preliminary analysis, is this data a viable source that can be used by your team in the future to understand how New Yorkers use these taxis? Justify your response."
   ]
  },
  {
   "cell_type": "markdown",
   "metadata": {},
   "source": [
    "Based on the preliminary analysis, it appears that this dataset may not be a viable source for understanding how New Yorkers use taxis due to several reasons. Firstly, significant cleanup is required, as indicated by the numerous errors and inconsistencies present in the data. Although the assignment mentions three issues, there are many more issues that cast doubt on the reliability of the dataset. For instance, the total amount does not display the correct total that you should get after summing all the columns related to cost. Also this reports that the least expensive trip is $0.01. This is unrealistic and contradicts common knowledge about taxi fares in New York City. Given the extensive cleanup needed, there is a risk that even after addressing known issues, there may be underlying problems that will go undetected. Therefore, using this dataset for future analysis may not be as advisable until the data quality issues are thoroughly resolved."
   ]
  }
 ],
 "metadata": {
  "kernelspec": {
   "display_name": "Python 3 (ipykernel)",
   "language": "python",
   "name": "python3"
  },
  "language_info": {
   "codemirror_mode": {
    "name": "ipython",
    "version": 3
   },
   "file_extension": ".py",
   "mimetype": "text/x-python",
   "name": "python",
   "nbconvert_exporter": "python",
   "pygments_lexer": "ipython3",
   "version": "3.11.5"
  }
 },
 "nbformat": 4,
 "nbformat_minor": 4
}
